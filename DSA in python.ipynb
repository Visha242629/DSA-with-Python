{
 "cells": [
  {
   "cell_type": "code",
   "execution_count": 1,
   "id": "5145b6f1",
   "metadata": {},
   "outputs": [
    {
     "name": "stdout",
     "output_type": "stream",
     "text": [
      "Give the number of elements in array=4\n",
      "Give the valu in array=4\n",
      "Give the valu in array=3\n",
      "Give the valu in array=2\n",
      "Give the valu in array=2\n",
      "Array= [4, 3, 2, 2]\n"
     ]
    }
   ],
   "source": [
    "# How to write an array in python\n",
    "arr=[]\n",
    "n=int(input(\"Give the number of elements in array=\"))#number of elements in array\n",
    "for x in range(0,n):\n",
    "    y=int(input(\"Give the valu in array=\"))#elements in array\n",
    "    arr.append(y)\n",
    "print(\"Array=\",arr)\n"
   ]
  },
  {
   "cell_type": "code",
   "execution_count": 6,
   "id": "8f189fb6",
   "metadata": {},
   "outputs": [],
   "source": [
    "# We can do many type of operations on an array like\n",
    "# Inserting = Adding a new element in array\n",
    "# Deletion = Deletion a element from array\n",
    "# Traversing = Accessing each reacord(element) exactly once \n",
    "# Searching = Finding the location of any element or finding any element from an array\n",
    "# Sorting = Arranging the elements in a logical order\n",
    "# Merging = Combining the elements in two different sorted files into a single sorted file\n"
   ]
  },
  {
   "cell_type": "code",
   "execution_count": 1,
   "id": "05c4ec1f",
   "metadata": {},
   "outputs": [],
   "source": [
    "# Inserting in an array without using any "
   ]
  },
  {
   "cell_type": "code",
   "execution_count": 4,
   "id": "51b954f8",
   "metadata": {},
   "outputs": [
    {
     "name": "stdout",
     "output_type": "stream",
     "text": [
      "1100\n"
     ]
    }
   ],
   "source": [
    "print(500+500+125-20+125-100-40-40-200+125+125)"
   ]
  },
  {
   "cell_type": "code",
   "execution_count": 20,
   "id": "f706799e",
   "metadata": {},
   "outputs": [
    {
     "name": "stdout",
     "output_type": "stream",
     "text": [
      "Updated Array: [1, 2, 6, 3, 4, 5]\n"
     ]
    }
   ],
   "source": [
    "# Function to insert an element into an array\n",
    "def insert_element(arr, element, index):\n",
    "    # Create a new array with one extra element\n",
    "    new_array = [0] * (len(arr) + 1)\n",
    "\n",
    "    # Copy elements from the original array up to the insertion index\n",
    "    for i in range(index):\n",
    "        new_array[i] = arr[i]\n",
    "\n",
    "    # Insert the element at the specified index\n",
    "    new_array[index] = element\n",
    "\n",
    "    # Copy the remaining elements from the original array\n",
    "    for i in range(index, len(arr)):\n",
    "        new_array[i + 1] = arr[i]\n",
    "\n",
    "    # Update the original array with the new array\n",
    "    arr[:] = new_array\n",
    "\n",
    "# Example usage:\n",
    "my_array = [1, 2, 3, 4, 5]\n",
    "element_to_insert = 6\n",
    "index_to_insert_at = 2  # You can specify the index where you want to insert the element\n",
    "\n",
    "insert_element(my_array, element_to_insert, index_to_insert_at)\n",
    "\n",
    "print(\"Updated Array:\", my_array)\n"
   ]
  },
  {
   "cell_type": "code",
   "execution_count": 1,
   "id": "2f17a7e5",
   "metadata": {},
   "outputs": [
    {
     "name": "stdout",
     "output_type": "stream",
     "text": [
      "Give the number of elements in array=6\n",
      "Give the valu in array=7\n",
      "Give the valu in array=6\n",
      "Give the valu in array=5\n",
      "Give the valu in array=4\n",
      "Give the valu in array=3\n",
      "Give the valu in array=2\n",
      "Array= [7, 6, 5, 4, 3, 2]\n",
      "Give the position=4\n",
      "give the element=3\n",
      "[7, 6, 5, 4, 3, 3, 2]\n"
     ]
    }
   ],
   "source": [
    "arr=[]\n",
    "n=int(input(\"Give the number of elements in array=\"))#number of elements in array\n",
    "for x in range(0,n):\n",
    "    y=int(input(\"Give the valu in array=\"))#elements in array\n",
    "    arr.append(y)\n",
    "print(\"Array=\",arr)\n",
    "x=n\n",
    "arr1=[0]*(x+1)\n",
    "for i in range(x):\n",
    "    arr1[i]=arr[i]\n",
    "pos=int(input(\"Give the position=\"))\n",
    "element=int(input(\"give the element=\"))\n",
    "for i in range(pos,x):\n",
    "    arr1[i+1]=arr[i]\n",
    "arr1[pos]=element\n",
    "arr[:]=arr1\n",
    "print(arr)\n",
    "    \n"
   ]
  },
  {
   "cell_type": "code",
   "execution_count": 2,
   "id": "3c83cf30",
   "metadata": {},
   "outputs": [
    {
     "name": "stdout",
     "output_type": "stream",
     "text": [
      "Original Array: [1, 2, 3, 4, 5]\n",
      "Updated Array: [1, 2, 4, 5]\n"
     ]
    }
   ],
   "source": [
    "# Delete an element from an array by position without using a function\n",
    "def delete_element_by_position(arr, position):\n",
    "    if 0 <= position < len(arr):\n",
    "        # Create a new array by slicing the original array\n",
    "        new_array = arr[:position] + arr[position + 1:]\n",
    "        return new_array\n",
    "    else:\n",
    "        print(\"Invalid position. Element not deleted.\")\n",
    "        return arr  # Return the original array unchanged\n",
    "\n",
    "# Example usage:\n",
    "my_array = [1, 2, 3, 4, 5]\n",
    "position_to_delete = 2  # Specify the position (index) of the element you want to delete\n",
    "\n",
    "updated_array = delete_element_by_position(my_array, position_to_delete)\n",
    "\n",
    "print(\"Original Array:\", my_array)\n",
    "print(\"Updated Array:\", updated_array)\n"
   ]
  },
  {
   "cell_type": "code",
   "execution_count": 12,
   "id": "b42e7f91",
   "metadata": {},
   "outputs": [
    {
     "name": "stdout",
     "output_type": "stream",
     "text": [
      "Give the total length of Array=5\n",
      "Give the element of Array=5\n",
      "Give the element of Array=4\n",
      "Give the element of Array=3\n",
      "Give the element of Array=2\n",
      "Give the element of Array=1\n",
      "Array= [5, 4, 3, 2, 1]\n",
      "Give the Index=3\n",
      "2\n",
      "[5, 4, 3, 1]\n"
     ]
    }
   ],
   "source": [
    "arr=[]\n",
    "x=int(input(\"Give the total length of Array=\"))\n",
    "for i in range(x):\n",
    "    y=int(input(\"Give the element of Array=\"))\n",
    "    arr.append(y)\n",
    "print(\"Array=\",arr)\n",
    "index=int(input(\"Give the Index=\"))\n",
    "item=arr[index]\n",
    "print(item)\n",
    "for i in range(index,x-1):\n",
    "    arr[i]=arr[i+1]\n",
    "arr.pop()\n",
    "print(arr)\n",
    "\n"
   ]
  },
  {
   "cell_type": "code",
   "execution_count": 13,
   "id": "68ad3346",
   "metadata": {},
   "outputs": [
    {
     "name": "stdout",
     "output_type": "stream",
     "text": [
      "Give the total length of Array=6\n",
      "Give the element of Array=6\n",
      "Give the element of Array=5\n",
      "Give the element of Array=4\n",
      "Give the element of Array=3\n",
      "Give the element of Array=2\n",
      "Give the element of Array=1\n",
      "Array= [6, 5, 4, 3, 2, 1]\n",
      "6\n",
      "5\n",
      "4\n",
      "3\n",
      "2\n",
      "1\n"
     ]
    }
   ],
   "source": [
    "# Traversing\n",
    "arr=[]\n",
    "x=int(input(\"Give the total length of Array=\"))\n",
    "for i in range(x):\n",
    "    y=int(input(\"Give the element of Array=\"))\n",
    "    arr.append(y)\n",
    "print(\"Array=\",arr)\n",
    "for i in range(x):\n",
    "    print(arr[i])"
   ]
  },
  {
   "cell_type": "code",
   "execution_count": 14,
   "id": "3854abf3",
   "metadata": {},
   "outputs": [],
   "source": [
    "# Searching\n",
    "# There are two type of searching from array\n",
    "# 1. Linear Search\n",
    "# 2. Binary Search"
   ]
  },
  {
   "cell_type": "code",
   "execution_count": 2,
   "id": "2345d45f",
   "metadata": {},
   "outputs": [
    {
     "name": "stdout",
     "output_type": "stream",
     "text": [
      "Give the total length of Array=5\n",
      "Give the element of Array=5\n",
      "Give the element of Array=4\n",
      "Give the element of Array=3\n",
      "Give the element of Array=2\n",
      "Give the element of Array=1\n",
      "Array= [5, 4, 3, 2, 1]\n",
      "Element To Search=3\n",
      "index= 2\n"
     ]
    }
   ],
   "source": [
    "# Linear Search\n",
    "arr=[]\n",
    "x=int(input(\"Give the total length of Array=\"))\n",
    "for i in range(x):\n",
    "    y=int(input(\"Give the element of Array=\"))\n",
    "    arr.append(y)\n",
    "print(\"Array=\",arr)\n",
    "element=int(input(\"Element To Search=\"))\n",
    "i=0\n",
    "j=0\n",
    "while(i==0 and j<x):\n",
    "    if(element==arr[j]):\n",
    "        print(\"index=\",j)\n",
    "        i=i+1\n",
    "    else:\n",
    "        i=0\n",
    "    j=j+1\n",
    "if(i==0):\n",
    "    print(\"Element is not in the array\")"
   ]
  },
  {
   "cell_type": "code",
   "execution_count": 1,
   "id": "dbcd7db6",
   "metadata": {},
   "outputs": [
    {
     "name": "stdout",
     "output_type": "stream",
     "text": [
      "Give the total length of Array=6\n",
      "Give the element of Array=65\n",
      "Give the element of Array=45\n",
      "Give the element of Array=35\n",
      "Give the element of Array=67\n",
      "Give the element of Array=46\n",
      "Give the element of Array=25\n",
      "Array= [65, 45, 35, 67, 46, 25]\n",
      "Element To Search=25\n",
      "Location= -1\n"
     ]
    }
   ],
   "source": [
    "# Binary Search\n",
    "# in binary search elements must be sorted\n",
    "arr=[]\n",
    "x=int(input(\"Give the total length of Array=\"))\n",
    "for i in range(x):\n",
    "    y=int(input(\"Give the element of Array=\"))\n",
    "    arr.append(y)\n",
    "print(\"Array=\",arr)\n",
    "element=int(input(\"Element To Search=\"))\n",
    "begin=0\n",
    "end=x\n",
    "mid=(begin+end)//2\n",
    "while(begin<=end and arr[mid]!=element):\n",
    "    if element<arr[mid]:\n",
    "        end=mid-1\n",
    "    else:\n",
    "        begin=mid+1\n",
    "    mid=(begin+end)//2\n",
    "if(arr[mid]==element):\n",
    "    print(\"Location=\", mid)\n",
    "else:\n",
    "    print(\"element is not found\")\n"
   ]
  },
  {
   "cell_type": "code",
   "execution_count": 1,
   "id": "1e994a27",
   "metadata": {},
   "outputs": [],
   "source": [
    "# Sorting\n",
    "# There are many type of sorting \n",
    "# 1.Insertion sort\n",
    "# 2.Selection Sort\n",
    "# 3.Radix Sort\n",
    "# 4.Merge Sort\n",
    "# 5.Bubble Sort\n",
    "# 6.Quick Sort\n",
    "# 7.Heap Sort\n",
    "# 8.Bucket Sort\n",
    "# 9.Counting Sort\n",
    "# 10.Shell Sort\n",
    "# 11.Comb Sort\n",
    "# 12.Odd Even Sort"
   ]
  },
  {
   "cell_type": "code",
   "execution_count": 4,
   "id": "d7d0475c",
   "metadata": {},
   "outputs": [
    {
     "name": "stdout",
     "output_type": "stream",
     "text": [
      "Give the length of array=6\n",
      "Give the elements of array=65\n",
      "Give the elements of array=47\n",
      "Give the elements of array=64\n",
      "Give the elements of array=87\n",
      "Give the elements of array=67\n",
      "Give the elements of array=95\n",
      "Unsorted Array= [65, 47, 64, 87, 67, 95]\n",
      "Sorted Array= [47, 64, 65, 67, 87, 95]\n"
     ]
    }
   ],
   "source": [
    "# Insertion Sort\n",
    "\n",
    "arr=[]\n",
    "x=int(input(\"Give the length of array=\"))\n",
    "for i in range(x):\n",
    "    y=int(input(\"Give the elements of array=\"))\n",
    "    arr.append(y)\n",
    "print(\"Unsorted Array=\",arr)\n",
    "\n",
    "for i in range(1,x):\n",
    "    key=arr[i]\n",
    "    \n",
    "    j=i-1\n",
    "    while j>=0 and key<arr[j]:\n",
    "        arr[j+1]=arr[j]\n",
    "        j=j-1\n",
    "    arr[j+1]=key\n",
    "print(\"Sorted Array=\",arr)"
   ]
  },
  {
   "cell_type": "code",
   "execution_count": 3,
   "id": "35c0c3ad",
   "metadata": {},
   "outputs": [
    {
     "name": "stdout",
     "output_type": "stream",
     "text": [
      "Give the length of array=5\n",
      "Give the elements of array=64\n",
      "Give the elements of array=345\n",
      "Give the elements of array=74\n",
      "Give the elements of array=532\n",
      "Give the elements of array=454\n",
      "Unsorted Array= [64, 345, 74, 532, 454]\n",
      "[64, 74, 345, 454, 532]\n"
     ]
    }
   ],
   "source": [
    "# Selection Sort\n",
    "\n",
    "arr=[]\n",
    "x=int(input(\"Give the length of array=\"))\n",
    "for i in range(x):\n",
    "    y=int(input(\"Give the elements of array=\"))\n",
    "    arr.append(y)\n",
    "print(\"Unsorted Array=\",arr)\n",
    "\n",
    "for k in range(1,x-1):\n",
    "    mini=arr[k]\n",
    "    loc=k\n",
    "    for i in range(k+1,x):\n",
    "        if mini>arr[i]:\n",
    "            mini=arr[i]\n",
    "            loc=i\n",
    "    temp=arr[k]\n",
    "    arr[k]=arr[loc]\n",
    "    arr[loc]=temp\n",
    "print(\"Sorted array=\",arr)"
   ]
  },
  {
   "cell_type": "code",
   "execution_count": 2,
   "id": "45d669bc",
   "metadata": {},
   "outputs": [
    {
     "name": "stdout",
     "output_type": "stream",
     "text": [
      "Give the length of array=4\n",
      "Give the elements of array=43\n",
      "Give the elements of array=62\n",
      "Give the elements of array=23\n",
      "Give the elements of array=35\n",
      "Unsorted Array= [43, 62, 23, 35]\n",
      "Sorted array: [23, 35, 43, 62]\n"
     ]
    }
   ],
   "source": [
    "# Radix sort\n",
    "# Function to find the maximum element in the array\n",
    "def find_max(arr):\n",
    "    max_element = arr[0]\n",
    "    for element in arr:\n",
    "        if element > max_element:\n",
    "            max_element = element\n",
    "    return max_element\n",
    "\n",
    "# Radix Sort function\n",
    "def radix_sort(arr):\n",
    "    max_element = find_max(arr)\n",
    "    exp = 1\n",
    "    n = len(arr)\n",
    "    \n",
    "    while max_element // exp > 0:\n",
    "        # Initialize count array and output array\n",
    "        count = [0] * 10\n",
    "        output = [0] * n\n",
    "        \n",
    "        # Count the occurrences of each digit in the current place value\n",
    "        for i in range(n):\n",
    "            index = (arr[i] // exp) % 10\n",
    "            count[index] += 1\n",
    "        \n",
    "        # Update count array to store the position of each digit in output\n",
    "        for i in range(1, 10):\n",
    "            count[i] += count[i - 1]\n",
    "        \n",
    "        # Build the output array by placing elements in their correct positions\n",
    "        i = n - 1\n",
    "        while i >= 0:\n",
    "            index = (arr[i] // exp) % 10\n",
    "            output[count[index] - 1] = arr[i]\n",
    "            count[index] -= 1\n",
    "            i -= 1\n",
    "        \n",
    "        # Copy the output array back to the original array\n",
    "        for i in range(n):\n",
    "            arr[i] = output[i]\n",
    "        \n",
    "        # Move to the next place value\n",
    "        exp *= 10\n",
    "\n",
    "# Example usage\n",
    "arr = []\n",
    "x=int(input(\"Give the length of array=\"))\n",
    "for i in range(x):\n",
    "    y=int(input(\"Give the elements of array=\"))\n",
    "    arr.append(y)\n",
    "print(\"Unsorted Array=\",arr)\n",
    "radix_sort(arr)\n",
    "print(\"Sorted array:\", arr)\n",
    "\n"
   ]
  },
  {
   "cell_type": "code",
   "execution_count": 5,
   "id": "80e7aa98",
   "metadata": {},
   "outputs": [
    {
     "name": "stdout",
     "output_type": "stream",
     "text": [
      "Give the length of array=5\n",
      "Give the elements of array=324\n",
      "Give the elements of array=233\n",
      "Give the elements of array=523\n",
      "Give the elements of array=315\n",
      "Give the elements of array=341\n",
      "Unsorted Array= [324, 233, 523, 315, 341]\n",
      "Sorted array: [233, 315, 324, 341, 523]\n"
     ]
    }
   ],
   "source": [
    "# Merge Sort\n",
    "\n",
    "def mergeSort(arr):\n",
    "    if len(arr)<=1:\n",
    "        return arr\n",
    "    mid=len(arr)//2\n",
    "    left_half=arr[:mid]\n",
    "    right_half=arr[mid:]\n",
    "    \n",
    "    left_half=mergeSort(left_half)\n",
    "    right_half=mergeSort(right_half)\n",
    "    \n",
    "    result=merge(left_half, right_half)\n",
    "    return result\n",
    "\n",
    "def merge(left_half,right_half):\n",
    "    merged=[]\n",
    "    left_index=0\n",
    "    right_index=0\n",
    "    while left_index<len(left_half) and right_index<len(right_half):\n",
    "        if left_half[left_index]<right_half[right_index]:\n",
    "            merged.append(left_half[left_index])\n",
    "            left_index=left_index+1\n",
    "        else:\n",
    "            merged.append(right_half[right_index])\n",
    "            right_index=right_index+1\n",
    "    merged.extend(left_half[left_index:])\n",
    "    merged.extend(right_half[right_index:])\n",
    "    \n",
    "    return merged\n",
    "\n",
    "\n",
    "arr = []\n",
    "x=int(input(\"Give the length of array=\"))\n",
    "for i in range(x):\n",
    "    y=int(input(\"Give the elements of array=\"))\n",
    "    arr.append(y)\n",
    "print(\"Unsorted Array=\",arr)\n",
    "\n",
    "\n",
    "sorted_arr = mergeSort(arr)\n",
    "print(\"Sorted array:\", sorted_arr)"
   ]
  },
  {
   "cell_type": "code",
   "execution_count": 5,
   "id": "f706eac1",
   "metadata": {},
   "outputs": [
    {
     "name": "stdout",
     "output_type": "stream",
     "text": [
      "Sorted array is: [11, 12, 22, 25, 34, 64, 90]\n"
     ]
    }
   ],
   "source": [
    "# Bubble Sort\n",
    "\n",
    "def bubble_sort(A, N):\n",
    "    for i in range(N - 1):\n",
    "        ptr = 0\n",
    "        while ptr < N - i - 1:\n",
    "            if A[ptr] > A[ptr + 1]:\n",
    "                # Swap the elements\n",
    "                A[ptr], A[ptr + 1] = A[ptr + 1], A[ptr]\n",
    "            ptr += 1\n",
    "\n",
    "# Example usage:\n",
    "A = [64, 34, 25, 12, 22, 11, 90]\n",
    "N = len(A)\n",
    "\n",
    "bubble_sort(A, N)\n",
    "\n",
    "print(\"Sorted array is:\", A)"
   ]
  },
  {
   "cell_type": "code",
   "execution_count": null,
   "id": "2bd76084",
   "metadata": {},
   "outputs": [],
   "source": []
  }
 ],
 "metadata": {
  "kernelspec": {
   "display_name": "Python 3 (ipykernel)",
   "language": "python",
   "name": "python3"
  },
  "language_info": {
   "codemirror_mode": {
    "name": "ipython",
    "version": 3
   },
   "file_extension": ".py",
   "mimetype": "text/x-python",
   "name": "python",
   "nbconvert_exporter": "python",
   "pygments_lexer": "ipython3",
   "version": "3.9.7"
  }
 },
 "nbformat": 4,
 "nbformat_minor": 5
}
